{
 "cells": [
  {
   "cell_type": "code",
   "execution_count": 1,
   "id": "646fafae",
   "metadata": {},
   "outputs": [],
   "source": [
    "import pandas as pd\n",
    "import numpy as np\n",
    "import seaborn as sbn\n",
    "import matplotlib.pyplot as plt"
   ]
  },
  {
   "cell_type": "code",
   "execution_count": 2,
   "id": "32dc33db",
   "metadata": {},
   "outputs": [],
   "source": [
    "df = pd.read_csv('./games.csv')"
   ]
  },
  {
   "cell_type": "code",
   "execution_count": 3,
   "id": "c0581c2b",
   "metadata": {},
   "outputs": [
    {
     "data": {
      "text/html": [
       "<div>\n",
       "<style scoped>\n",
       "    .dataframe tbody tr th:only-of-type {\n",
       "        vertical-align: middle;\n",
       "    }\n",
       "\n",
       "    .dataframe tbody tr th {\n",
       "        vertical-align: top;\n",
       "    }\n",
       "\n",
       "    .dataframe thead th {\n",
       "        text-align: right;\n",
       "    }\n",
       "</style>\n",
       "<table border=\"1\" class=\"dataframe\">\n",
       "  <thead>\n",
       "    <tr style=\"text-align: right;\">\n",
       "      <th></th>\n",
       "      <th>titulo</th>\n",
       "      <th>calificacion</th>\n",
       "      <th>plataformas</th>\n",
       "      <th>categorias</th>\n",
       "      <th>idiomas</th>\n",
       "      <th>fecha_lanzamiento</th>\n",
       "      <th>desarrollador</th>\n",
       "    </tr>\n",
       "  </thead>\n",
       "  <tbody>\n",
       "    <tr>\n",
       "      <th>0</th>\n",
       "      <td>Call of Duty®: Modern Warfare® II - Jack Links...</td>\n",
       "      <td>3.75</td>\n",
       "      <td>Windows|Xbox One|PlayStation 4|PlayStation 5|X...</td>\n",
       "      <td>Acción|FPS / TPS</td>\n",
       "      <td>Inglés</td>\n",
       "      <td>28 de octubre de 2022</td>\n",
       "      <td>Activision</td>\n",
       "    </tr>\n",
       "    <tr>\n",
       "      <th>1</th>\n",
       "      <td>Call of Duty®: Modern Warfare® II  -  Burger K...</td>\n",
       "      <td>3.93</td>\n",
       "      <td>Windows|Xbox One|PlayStation 4|PlayStation 5|X...</td>\n",
       "      <td>Acción|FPS / TPS</td>\n",
       "      <td>Inglés</td>\n",
       "      <td>28 de octubre de 2022</td>\n",
       "      <td>Activision</td>\n",
       "    </tr>\n",
       "    <tr>\n",
       "      <th>2</th>\n",
       "      <td>Call of Duty®: Modern Warfare® II  -  Warzone ...</td>\n",
       "      <td>3.86</td>\n",
       "      <td>Windows|Xbox One|PlayStation 4|PlayStation 5|X...</td>\n",
       "      <td>Acción|FPS / TPS</td>\n",
       "      <td>Inglés</td>\n",
       "      <td>28 de octubre de 2022</td>\n",
       "      <td>Activision</td>\n",
       "    </tr>\n",
       "    <tr>\n",
       "      <th>3</th>\n",
       "      <td>Xbox Game Pass Ultimate – 2 Month TRIAL Subscr...</td>\n",
       "      <td>2.50</td>\n",
       "      <td>Windows|Xbox One|Xbox Series X</td>\n",
       "      <td>NaN</td>\n",
       "      <td>NaN</td>\n",
       "      <td>9 de junio de 2019</td>\n",
       "      <td>Microsoft Studios</td>\n",
       "    </tr>\n",
       "    <tr>\n",
       "      <th>4</th>\n",
       "      <td>Apple iTunes Gift Card 50 USD iTunes Key UNITE...</td>\n",
       "      <td>4.32</td>\n",
       "      <td>NaN</td>\n",
       "      <td>NaN</td>\n",
       "      <td>NaN</td>\n",
       "      <td>28 de abril de 2003</td>\n",
       "      <td>Apple Inc.</td>\n",
       "    </tr>\n",
       "  </tbody>\n",
       "</table>\n",
       "</div>"
      ],
      "text/plain": [
       "                                              titulo  calificacion  \\\n",
       "0  Call of Duty®: Modern Warfare® II - Jack Links...          3.75   \n",
       "1  Call of Duty®: Modern Warfare® II  -  Burger K...          3.93   \n",
       "2  Call of Duty®: Modern Warfare® II  -  Warzone ...          3.86   \n",
       "3  Xbox Game Pass Ultimate – 2 Month TRIAL Subscr...          2.50   \n",
       "4  Apple iTunes Gift Card 50 USD iTunes Key UNITE...          4.32   \n",
       "\n",
       "                                         plataformas        categorias  \\\n",
       "0  Windows|Xbox One|PlayStation 4|PlayStation 5|X...  Acción|FPS / TPS   \n",
       "1  Windows|Xbox One|PlayStation 4|PlayStation 5|X...  Acción|FPS / TPS   \n",
       "2  Windows|Xbox One|PlayStation 4|PlayStation 5|X...  Acción|FPS / TPS   \n",
       "3                     Windows|Xbox One|Xbox Series X               NaN   \n",
       "4                                                NaN               NaN   \n",
       "\n",
       "  idiomas      fecha_lanzamiento      desarrollador  \n",
       "0  Inglés  28 de octubre de 2022         Activision  \n",
       "1  Inglés  28 de octubre de 2022         Activision  \n",
       "2  Inglés  28 de octubre de 2022         Activision  \n",
       "3     NaN     9 de junio de 2019  Microsoft Studios  \n",
       "4     NaN    28 de abril de 2003         Apple Inc.  "
      ]
     },
     "execution_count": 3,
     "metadata": {},
     "output_type": "execute_result"
    }
   ],
   "source": [
    "df.head()"
   ]
  },
  {
   "cell_type": "code",
   "execution_count": 4,
   "id": "9383f6ca",
   "metadata": {},
   "outputs": [
    {
     "data": {
      "text/plain": [
       "titulo                object\n",
       "calificacion         float64\n",
       "plataformas           object\n",
       "categorias            object\n",
       "idiomas               object\n",
       "fecha_lanzamiento     object\n",
       "desarrollador         object\n",
       "dtype: object"
      ]
     },
     "execution_count": 4,
     "metadata": {},
     "output_type": "execute_result"
    }
   ],
   "source": [
    "df.dtypes"
   ]
  },
  {
   "cell_type": "code",
   "execution_count": 5,
   "id": "42f689d8",
   "metadata": {},
   "outputs": [],
   "source": [
    "exclusion_desarrolladores = ['2.0GHz', '1 GB RAM', 'i5-3570 3.4 GHz 4 Core', '2.0GHz']"
   ]
  },
  {
   "cell_type": "code",
   "execution_count": 6,
   "id": "c36bd1cd",
   "metadata": {},
   "outputs": [],
   "source": [
    "df = df[~df['desarrollador'].isin(exclusion_desarrolladores)]"
   ]
  },
  {
   "cell_type": "markdown",
   "id": "5c47089d",
   "metadata": {},
   "source": [
    "## Cuál es el desarrollador que tiene el menor promedio en la calificación de sus juegos?"
   ]
  },
  {
   "cell_type": "code",
   "execution_count": 7,
   "id": "cc50a694",
   "metadata": {},
   "outputs": [],
   "source": [
    "calificaciones_desarrolladores = df.groupby(['desarrollador']).mean()"
   ]
  },
  {
   "cell_type": "code",
   "execution_count": 8,
   "id": "565cc313",
   "metadata": {},
   "outputs": [],
   "source": [
    "calificaciones_desarrolladores.reset_index(inplace=True)"
   ]
  },
  {
   "cell_type": "code",
   "execution_count": 9,
   "id": "77f9111e",
   "metadata": {},
   "outputs": [
    {
     "data": {
      "text/html": [
       "<div>\n",
       "<style scoped>\n",
       "    .dataframe tbody tr th:only-of-type {\n",
       "        vertical-align: middle;\n",
       "    }\n",
       "\n",
       "    .dataframe tbody tr th {\n",
       "        vertical-align: top;\n",
       "    }\n",
       "\n",
       "    .dataframe thead th {\n",
       "        text-align: right;\n",
       "    }\n",
       "</style>\n",
       "<table border=\"1\" class=\"dataframe\">\n",
       "  <thead>\n",
       "    <tr style=\"text-align: right;\">\n",
       "      <th></th>\n",
       "      <th>desarrollador</th>\n",
       "      <th>calificacion</th>\n",
       "    </tr>\n",
       "  </thead>\n",
       "  <tbody>\n",
       "    <tr>\n",
       "      <th>0</th>\n",
       "      <td>1 GB</td>\n",
       "      <td>3.333333</td>\n",
       "    </tr>\n",
       "    <tr>\n",
       "      <th>1</th>\n",
       "      <td>1 GB RAM (Windows XP®,) 2 GB RAM (Windows Vista®)</td>\n",
       "      <td>0.000000</td>\n",
       "    </tr>\n",
       "    <tr>\n",
       "      <th>2</th>\n",
       "      <td>1 Gb dedicated, model 3.0+</td>\n",
       "      <td>4.140000</td>\n",
       "    </tr>\n",
       "    <tr>\n",
       "      <th>3</th>\n",
       "      <td>1 gigahertz (GHz)</td>\n",
       "      <td>0.000000</td>\n",
       "    </tr>\n",
       "    <tr>\n",
       "      <th>4</th>\n",
       "      <td>1+GB RAM</td>\n",
       "      <td>0.000000</td>\n",
       "    </tr>\n",
       "    <tr>\n",
       "      <th>...</th>\n",
       "      <td>...</td>\n",
       "      <td>...</td>\n",
       "    </tr>\n",
       "    <tr>\n",
       "      <th>565</th>\n",
       "      <td>i3-4170 @ 3.7Ghz OR i5-750 @ 2.67Ghz OR AMD FX...</td>\n",
       "      <td>3.666000</td>\n",
       "    </tr>\n",
       "    <tr>\n",
       "      <th>566</th>\n",
       "      <td>id Software</td>\n",
       "      <td>4.712500</td>\n",
       "    </tr>\n",
       "    <tr>\n",
       "      <th>567</th>\n",
       "      <td>id Software, Avalanche Studios</td>\n",
       "      <td>3.000000</td>\n",
       "    </tr>\n",
       "    <tr>\n",
       "      <th>568</th>\n",
       "      <td>tinyBuild</td>\n",
       "      <td>5.000000</td>\n",
       "    </tr>\n",
       "    <tr>\n",
       "      <th>569</th>\n",
       "      <td>worm club</td>\n",
       "      <td>0.000000</td>\n",
       "    </tr>\n",
       "  </tbody>\n",
       "</table>\n",
       "<p>570 rows × 2 columns</p>\n",
       "</div>"
      ],
      "text/plain": [
       "                                         desarrollador  calificacion\n",
       "0                                                 1 GB      3.333333\n",
       "1    1 GB RAM (Windows XP®,) 2 GB RAM (Windows Vista®)      0.000000\n",
       "2                           1 Gb dedicated, model 3.0+      4.140000\n",
       "3                                    1 gigahertz (GHz)      0.000000\n",
       "4                                             1+GB RAM      0.000000\n",
       "..                                                 ...           ...\n",
       "565  i3-4170 @ 3.7Ghz OR i5-750 @ 2.67Ghz OR AMD FX...      3.666000\n",
       "566                                        id Software      4.712500\n",
       "567                     id Software, Avalanche Studios      3.000000\n",
       "568                                          tinyBuild      5.000000\n",
       "569                                          worm club      0.000000\n",
       "\n",
       "[570 rows x 2 columns]"
      ]
     },
     "execution_count": 9,
     "metadata": {},
     "output_type": "execute_result"
    }
   ],
   "source": [
    "calificaciones_desarrolladores"
   ]
  },
  {
   "cell_type": "code",
   "execution_count": 10,
   "id": "d9e04e78",
   "metadata": {},
   "outputs": [],
   "source": [
    "calificaciones_desarrolladores.sort_values(by='calificacion', inplace=True)"
   ]
  },
  {
   "cell_type": "code",
   "execution_count": 12,
   "id": "f57334a6",
   "metadata": {},
   "outputs": [
    {
     "data": {
      "text/html": [
       "<div>\n",
       "<style scoped>\n",
       "    .dataframe tbody tr th:only-of-type {\n",
       "        vertical-align: middle;\n",
       "    }\n",
       "\n",
       "    .dataframe tbody tr th {\n",
       "        vertical-align: top;\n",
       "    }\n",
       "\n",
       "    .dataframe thead th {\n",
       "        text-align: right;\n",
       "    }\n",
       "</style>\n",
       "<table border=\"1\" class=\"dataframe\">\n",
       "  <thead>\n",
       "    <tr style=\"text-align: right;\">\n",
       "      <th></th>\n",
       "      <th>index</th>\n",
       "      <th>desarrollador</th>\n",
       "      <th>calificacion</th>\n",
       "    </tr>\n",
       "  </thead>\n",
       "  <tbody>\n",
       "    <tr>\n",
       "      <th>0</th>\n",
       "      <td>569</td>\n",
       "      <td>worm club</td>\n",
       "      <td>0.0</td>\n",
       "    </tr>\n",
       "    <tr>\n",
       "      <th>1</th>\n",
       "      <td>391</td>\n",
       "      <td>Powerhoof</td>\n",
       "      <td>0.0</td>\n",
       "    </tr>\n",
       "    <tr>\n",
       "      <th>2</th>\n",
       "      <td>389</td>\n",
       "      <td>Plitka Games</td>\n",
       "      <td>0.0</td>\n",
       "    </tr>\n",
       "    <tr>\n",
       "      <th>3</th>\n",
       "      <td>387</td>\n",
       "      <td>PlayDead</td>\n",
       "      <td>0.0</td>\n",
       "    </tr>\n",
       "    <tr>\n",
       "      <th>4</th>\n",
       "      <td>385</td>\n",
       "      <td>Pixellore</td>\n",
       "      <td>0.0</td>\n",
       "    </tr>\n",
       "    <tr>\n",
       "      <th>5</th>\n",
       "      <td>384</td>\n",
       "      <td>Pixel Reef</td>\n",
       "      <td>0.0</td>\n",
       "    </tr>\n",
       "    <tr>\n",
       "      <th>6</th>\n",
       "      <td>139</td>\n",
       "      <td>Code Mystics</td>\n",
       "      <td>0.0</td>\n",
       "    </tr>\n",
       "    <tr>\n",
       "      <th>7</th>\n",
       "      <td>380</td>\n",
       "      <td>People Can Fly</td>\n",
       "      <td>0.0</td>\n",
       "    </tr>\n",
       "    <tr>\n",
       "      <th>8</th>\n",
       "      <td>375</td>\n",
       "      <td>Paper Cult</td>\n",
       "      <td>0.0</td>\n",
       "    </tr>\n",
       "    <tr>\n",
       "      <th>9</th>\n",
       "      <td>374</td>\n",
       "      <td>Panic Button</td>\n",
       "      <td>0.0</td>\n",
       "    </tr>\n",
       "  </tbody>\n",
       "</table>\n",
       "</div>"
      ],
      "text/plain": [
       "   index   desarrollador  calificacion\n",
       "0    569       worm club           0.0\n",
       "1    391       Powerhoof           0.0\n",
       "2    389    Plitka Games           0.0\n",
       "3    387        PlayDead           0.0\n",
       "4    385       Pixellore           0.0\n",
       "5    384      Pixel Reef           0.0\n",
       "6    139    Code Mystics           0.0\n",
       "7    380  People Can Fly           0.0\n",
       "8    375      Paper Cult           0.0\n",
       "9    374    Panic Button           0.0"
      ]
     },
     "execution_count": 12,
     "metadata": {},
     "output_type": "execute_result"
    }
   ],
   "source": [
    "top_desarrolladores = calificaciones_desarrolladores[:10]\n",
    "top_desarrolladores.reset_index(inplace=True)\n",
    "top_desarrolladores"
   ]
  },
  {
   "cell_type": "code",
   "execution_count": null,
   "id": "3c793ae4",
   "metadata": {},
   "outputs": [],
   "source": []
  }
 ],
 "metadata": {
  "kernelspec": {
   "display_name": "Python 3 (ipykernel)",
   "language": "python",
   "name": "python3"
  },
  "language_info": {
   "codemirror_mode": {
    "name": "ipython",
    "version": 3
   },
   "file_extension": ".py",
   "mimetype": "text/x-python",
   "name": "python",
   "nbconvert_exporter": "python",
   "pygments_lexer": "ipython3",
   "version": "3.9.12"
  }
 },
 "nbformat": 4,
 "nbformat_minor": 5
}
