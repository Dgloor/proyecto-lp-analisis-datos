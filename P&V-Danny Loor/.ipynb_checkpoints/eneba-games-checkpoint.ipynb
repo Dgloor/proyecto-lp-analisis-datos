{
 "cells": [
  {
   "cell_type": "code",
   "execution_count": 147,
   "id": "646fafae",
   "metadata": {},
   "outputs": [],
   "source": [
    "import pandas as pd\n",
    "import numpy as np\n",
    "import seaborn as sns\n",
    "import matplotlib.pyplot as plt"
   ]
  },
  {
   "cell_type": "code",
   "execution_count": 148,
   "id": "32dc33db",
   "metadata": {},
   "outputs": [],
   "source": [
    "df = pd.read_csv('./games.csv')"
   ]
  },
  {
   "cell_type": "code",
   "execution_count": 149,
   "id": "c0581c2b",
   "metadata": {},
   "outputs": [
    {
     "data": {
      "text/html": [
       "<div>\n",
       "<style scoped>\n",
       "    .dataframe tbody tr th:only-of-type {\n",
       "        vertical-align: middle;\n",
       "    }\n",
       "\n",
       "    .dataframe tbody tr th {\n",
       "        vertical-align: top;\n",
       "    }\n",
       "\n",
       "    .dataframe thead th {\n",
       "        text-align: right;\n",
       "    }\n",
       "</style>\n",
       "<table border=\"1\" class=\"dataframe\">\n",
       "  <thead>\n",
       "    <tr style=\"text-align: right;\">\n",
       "      <th></th>\n",
       "      <th>titulo</th>\n",
       "      <th>calificacion</th>\n",
       "      <th>plataformas</th>\n",
       "      <th>categorias</th>\n",
       "      <th>idiomas</th>\n",
       "      <th>fecha_lanzamiento</th>\n",
       "      <th>desarrollador</th>\n",
       "    </tr>\n",
       "  </thead>\n",
       "  <tbody>\n",
       "    <tr>\n",
       "      <th>0</th>\n",
       "      <td>Call of Duty®: Modern Warfare® II - Jack Links...</td>\n",
       "      <td>3.75</td>\n",
       "      <td>Windows|Xbox One|PlayStation 4|PlayStation 5|X...</td>\n",
       "      <td>Acción|FPS / TPS</td>\n",
       "      <td>Inglés</td>\n",
       "      <td>28 de octubre de 2022</td>\n",
       "      <td>Activision</td>\n",
       "    </tr>\n",
       "    <tr>\n",
       "      <th>1</th>\n",
       "      <td>Call of Duty®: Modern Warfare® II  -  Burger K...</td>\n",
       "      <td>3.93</td>\n",
       "      <td>Windows|Xbox One|PlayStation 4|PlayStation 5|X...</td>\n",
       "      <td>Acción|FPS / TPS</td>\n",
       "      <td>Inglés</td>\n",
       "      <td>28 de octubre de 2022</td>\n",
       "      <td>Activision</td>\n",
       "    </tr>\n",
       "    <tr>\n",
       "      <th>2</th>\n",
       "      <td>Call of Duty®: Modern Warfare® II  -  Warzone ...</td>\n",
       "      <td>3.86</td>\n",
       "      <td>Windows|Xbox One|PlayStation 4|PlayStation 5|X...</td>\n",
       "      <td>Acción|FPS / TPS</td>\n",
       "      <td>Inglés</td>\n",
       "      <td>28 de octubre de 2022</td>\n",
       "      <td>Activision</td>\n",
       "    </tr>\n",
       "    <tr>\n",
       "      <th>3</th>\n",
       "      <td>Xbox Game Pass Ultimate – 2 Month TRIAL Subscr...</td>\n",
       "      <td>2.50</td>\n",
       "      <td>Windows|Xbox One|Xbox Series X</td>\n",
       "      <td>NaN</td>\n",
       "      <td>NaN</td>\n",
       "      <td>9 de junio de 2019</td>\n",
       "      <td>Microsoft Studios</td>\n",
       "    </tr>\n",
       "    <tr>\n",
       "      <th>4</th>\n",
       "      <td>Apple iTunes Gift Card 50 USD iTunes Key UNITE...</td>\n",
       "      <td>4.32</td>\n",
       "      <td>NaN</td>\n",
       "      <td>NaN</td>\n",
       "      <td>NaN</td>\n",
       "      <td>28 de abril de 2003</td>\n",
       "      <td>Apple Inc.</td>\n",
       "    </tr>\n",
       "  </tbody>\n",
       "</table>\n",
       "</div>"
      ],
      "text/plain": [
       "                                              titulo  calificacion  \\\n",
       "0  Call of Duty®: Modern Warfare® II - Jack Links...          3.75   \n",
       "1  Call of Duty®: Modern Warfare® II  -  Burger K...          3.93   \n",
       "2  Call of Duty®: Modern Warfare® II  -  Warzone ...          3.86   \n",
       "3  Xbox Game Pass Ultimate – 2 Month TRIAL Subscr...          2.50   \n",
       "4  Apple iTunes Gift Card 50 USD iTunes Key UNITE...          4.32   \n",
       "\n",
       "                                         plataformas        categorias  \\\n",
       "0  Windows|Xbox One|PlayStation 4|PlayStation 5|X...  Acción|FPS / TPS   \n",
       "1  Windows|Xbox One|PlayStation 4|PlayStation 5|X...  Acción|FPS / TPS   \n",
       "2  Windows|Xbox One|PlayStation 4|PlayStation 5|X...  Acción|FPS / TPS   \n",
       "3                     Windows|Xbox One|Xbox Series X               NaN   \n",
       "4                                                NaN               NaN   \n",
       "\n",
       "  idiomas      fecha_lanzamiento      desarrollador  \n",
       "0  Inglés  28 de octubre de 2022         Activision  \n",
       "1  Inglés  28 de octubre de 2022         Activision  \n",
       "2  Inglés  28 de octubre de 2022         Activision  \n",
       "3     NaN     9 de junio de 2019  Microsoft Studios  \n",
       "4     NaN    28 de abril de 2003         Apple Inc.  "
      ]
     },
     "execution_count": 149,
     "metadata": {},
     "output_type": "execute_result"
    }
   ],
   "source": [
    "df.head()"
   ]
  },
  {
   "cell_type": "code",
   "execution_count": 150,
   "id": "9383f6ca",
   "metadata": {},
   "outputs": [
    {
     "data": {
      "text/plain": [
       "titulo                object\n",
       "calificacion         float64\n",
       "plataformas           object\n",
       "categorias            object\n",
       "idiomas               object\n",
       "fecha_lanzamiento     object\n",
       "desarrollador         object\n",
       "dtype: object"
      ]
     },
     "execution_count": 150,
     "metadata": {},
     "output_type": "execute_result"
    }
   ],
   "source": [
    "df.dtypes"
   ]
  },
  {
   "cell_type": "code",
   "execution_count": 151,
   "id": "6444f647",
   "metadata": {},
   "outputs": [],
   "source": [
    "df.dropna(inplace=True)"
   ]
  },
  {
   "cell_type": "code",
   "execution_count": 152,
   "id": "42f689d8",
   "metadata": {},
   "outputs": [],
   "source": [
    "exclusion_desarrolladores = ['2.0GHz', '1 GB RAM', 'i5-3570 3.4 GHz 4 Core', '2.0GHz', '1+GB RAM', '1 GB',\n",
    "                            '1 GB RAM (Windows XP®,) 2 GB RAM (Windows Vista®)']"
   ]
  },
  {
   "cell_type": "code",
   "execution_count": 153,
   "id": "c36bd1cd",
   "metadata": {},
   "outputs": [],
   "source": [
    "df = df[~df['desarrollador'].isin(exclusion_desarrolladores)]"
   ]
  },
  {
   "cell_type": "code",
   "execution_count": 163,
   "id": "f143c460",
   "metadata": {},
   "outputs": [],
   "source": [
    "df = df[~df['desarrollador'].str.contains('RAM')]\n",
    "df = df[~df['desarrollador'].str.contains('Gb')]\n",
    "df = df[~df['desarrollador'].str.contains('GB')]\n",
    "df = df[~df['desarrollador'].str.contains('GHz')]\n",
    "df = df[~df['desarrollador'].str.contains('OR')]\n",
    "df = df[~df['desarrollador'].str.contains('Ati')]\n",
    "df = df[~df['desarrollador'].str.contains('BonusXP')]\n",
    "df = df[~df['desarrollador'].str.contains('Ryzen')]\n",
    "df = df[~df['desarrollador'].str.contains('10')]\n",
    "df = df[~df['desarrollador'].str.contains('11')]\n",
    "df = df[~df['desarrollador'].str.contains('junio')]\n",
    "df = df[~df['desarrollador'].str.contains('octubre')]\n",
    "df = df[~df['desarrollador'].str.contains('256MB')]"
   ]
  },
  {
   "cell_type": "markdown",
   "id": "5c47089d",
   "metadata": {},
   "source": [
    "## ¿Cuales son los desarrolladores que tienen el menor promedio en la calificación de sus juegos?"
   ]
  },
  {
   "cell_type": "code",
   "execution_count": 164,
   "id": "cc50a694",
   "metadata": {},
   "outputs": [],
   "source": [
    "cali_desa = df.groupby(['desarrollador']).mean()"
   ]
  },
  {
   "cell_type": "code",
   "execution_count": 165,
   "id": "565cc313",
   "metadata": {},
   "outputs": [],
   "source": [
    "cali_desa.reset_index(inplace=True)"
   ]
  },
  {
   "cell_type": "code",
   "execution_count": 166,
   "id": "77f9111e",
   "metadata": {},
   "outputs": [
    {
     "data": {
      "text/html": [
       "<div>\n",
       "<style scoped>\n",
       "    .dataframe tbody tr th:only-of-type {\n",
       "        vertical-align: middle;\n",
       "    }\n",
       "\n",
       "    .dataframe tbody tr th {\n",
       "        vertical-align: top;\n",
       "    }\n",
       "\n",
       "    .dataframe thead th {\n",
       "        text-align: right;\n",
       "    }\n",
       "</style>\n",
       "<table border=\"1\" class=\"dataframe\">\n",
       "  <thead>\n",
       "    <tr style=\"text-align: right;\">\n",
       "      <th></th>\n",
       "      <th>desarrollador</th>\n",
       "      <th>calificacion</th>\n",
       "    </tr>\n",
       "  </thead>\n",
       "  <tbody>\n",
       "    <tr>\n",
       "      <th>0</th>\n",
       "      <td>2 Dawn Games Inc.</td>\n",
       "      <td>0.00</td>\n",
       "    </tr>\n",
       "    <tr>\n",
       "      <th>1</th>\n",
       "      <td>2 Zombie Games</td>\n",
       "      <td>0.00</td>\n",
       "    </tr>\n",
       "    <tr>\n",
       "      <th>2</th>\n",
       "      <td>2K Australia</td>\n",
       "      <td>5.00</td>\n",
       "    </tr>\n",
       "    <tr>\n",
       "      <th>3</th>\n",
       "      <td>343 Industries Creative Assembly</td>\n",
       "      <td>5.00</td>\n",
       "    </tr>\n",
       "    <tr>\n",
       "      <th>4</th>\n",
       "      <td>343Industries</td>\n",
       "      <td>3.75</td>\n",
       "    </tr>\n",
       "    <tr>\n",
       "      <th>...</th>\n",
       "      <td>...</td>\n",
       "      <td>...</td>\n",
       "    </tr>\n",
       "    <tr>\n",
       "      <th>440</th>\n",
       "      <td>d3t Ltd</td>\n",
       "      <td>5.00</td>\n",
       "    </tr>\n",
       "    <tr>\n",
       "      <th>441</th>\n",
       "      <td>id Software</td>\n",
       "      <td>4.75</td>\n",
       "    </tr>\n",
       "    <tr>\n",
       "      <th>442</th>\n",
       "      <td>id Software, Avalanche Studios</td>\n",
       "      <td>3.00</td>\n",
       "    </tr>\n",
       "    <tr>\n",
       "      <th>443</th>\n",
       "      <td>tinyBuild</td>\n",
       "      <td>5.00</td>\n",
       "    </tr>\n",
       "    <tr>\n",
       "      <th>444</th>\n",
       "      <td>worm club</td>\n",
       "      <td>0.00</td>\n",
       "    </tr>\n",
       "  </tbody>\n",
       "</table>\n",
       "<p>445 rows × 2 columns</p>\n",
       "</div>"
      ],
      "text/plain": [
       "                        desarrollador  calificacion\n",
       "0                   2 Dawn Games Inc.          0.00\n",
       "1                      2 Zombie Games          0.00\n",
       "2                        2K Australia          5.00\n",
       "3    343 Industries Creative Assembly          5.00\n",
       "4                       343Industries          3.75\n",
       "..                                ...           ...\n",
       "440                           d3t Ltd          5.00\n",
       "441                       id Software          4.75\n",
       "442    id Software, Avalanche Studios          3.00\n",
       "443                         tinyBuild          5.00\n",
       "444                         worm club          0.00\n",
       "\n",
       "[445 rows x 2 columns]"
      ]
     },
     "execution_count": 166,
     "metadata": {},
     "output_type": "execute_result"
    }
   ],
   "source": [
    "cali_desa"
   ]
  },
  {
   "cell_type": "code",
   "execution_count": 167,
   "id": "ec2ea64b",
   "metadata": {},
   "outputs": [],
   "source": [
    "cali_desa = cali_desa[cali_desa[\"calificacion\"] != 0]"
   ]
  },
  {
   "cell_type": "code",
   "execution_count": 168,
   "id": "d9e04e78",
   "metadata": {},
   "outputs": [],
   "source": [
    "cali_desa = cali_desa.sort_values(by='calificacion')"
   ]
  },
  {
   "cell_type": "code",
   "execution_count": 169,
   "id": "f57334a6",
   "metadata": {},
   "outputs": [
    {
     "data": {
      "text/html": [
       "<div>\n",
       "<style scoped>\n",
       "    .dataframe tbody tr th:only-of-type {\n",
       "        vertical-align: middle;\n",
       "    }\n",
       "\n",
       "    .dataframe tbody tr th {\n",
       "        vertical-align: top;\n",
       "    }\n",
       "\n",
       "    .dataframe thead th {\n",
       "        text-align: right;\n",
       "    }\n",
       "</style>\n",
       "<table border=\"1\" class=\"dataframe\">\n",
       "  <thead>\n",
       "    <tr style=\"text-align: right;\">\n",
       "      <th></th>\n",
       "      <th>index</th>\n",
       "      <th>desarrollador</th>\n",
       "      <th>calificacion</th>\n",
       "    </tr>\n",
       "  </thead>\n",
       "  <tbody>\n",
       "    <tr>\n",
       "      <th>0</th>\n",
       "      <td>143</td>\n",
       "      <td>Frima Studios</td>\n",
       "      <td>0.50</td>\n",
       "    </tr>\n",
       "    <tr>\n",
       "      <th>1</th>\n",
       "      <td>432</td>\n",
       "      <td>WildSphere</td>\n",
       "      <td>1.00</td>\n",
       "    </tr>\n",
       "    <tr>\n",
       "      <th>2</th>\n",
       "      <td>68</td>\n",
       "      <td>CAPCOM CO., LTD</td>\n",
       "      <td>1.00</td>\n",
       "    </tr>\n",
       "    <tr>\n",
       "      <th>3</th>\n",
       "      <td>330</td>\n",
       "      <td>San Diego Studio</td>\n",
       "      <td>1.10</td>\n",
       "    </tr>\n",
       "    <tr>\n",
       "      <th>4</th>\n",
       "      <td>400</td>\n",
       "      <td>Ubisoft Massive</td>\n",
       "      <td>1.25</td>\n",
       "    </tr>\n",
       "  </tbody>\n",
       "</table>\n",
       "</div>"
      ],
      "text/plain": [
       "   index     desarrollador  calificacion\n",
       "0    143     Frima Studios          0.50\n",
       "1    432        WildSphere          1.00\n",
       "2     68   CAPCOM CO., LTD          1.00\n",
       "3    330  San Diego Studio          1.10\n",
       "4    400   Ubisoft Massive          1.25"
      ]
     },
     "execution_count": 169,
     "metadata": {},
     "output_type": "execute_result"
    }
   ],
   "source": [
    "top_desa = cali_desa[:5]\n",
    "top_desa.reset_index(inplace=True)\n",
    "top_desa"
   ]
  },
  {
   "cell_type": "code",
   "execution_count": 170,
   "id": "761a3bee",
   "metadata": {},
   "outputs": [],
   "source": [
    "sns.set(rc={'figure.figsize':(12, 8)})"
   ]
  },
  {
   "cell_type": "code",
   "execution_count": 171,
   "id": "3c793ae4",
   "metadata": {},
   "outputs": [
    {
     "data": {
      "text/plain": [
       "<AxesSubplot:xlabel='desarrollador', ylabel='calificacion'>"
      ]
     },
     "execution_count": 171,
     "metadata": {},
     "output_type": "execute_result"
    },
    {
     "data": {
      "image/png": "[encoded data removed]",
      "text/plain": [
       "<Figure size 864x576 with 1 Axes>"
      ]
     },
     "metadata": {},
     "output_type": "display_data"
    }
   ],
   "source": [
    "sns.barplot(x=\"desarrollador\", y=\"calificacion\", data=top_desa)"
   ]
  },
  {
   "cell_type": "code",
   "execution_count": null,
   "id": "f1ae0eb3",
   "metadata": {},
   "outputs": [],
   "source": []
  }
 ],
 "metadata": {
  "kernelspec": {
   "display_name": "Python 3 (ipykernel)",
   "language": "python",
   "name": "python3"
  },
  "language_info": {
   "codemirror_mode": {
    "name": "ipython",
    "version": 3
   },
   "file_extension": ".py",
   "mimetype": "text/x-python",
   "name": "python",
   "nbconvert_exporter": "python",
   "pygments_lexer": "ipython3",
   "version": "3.9.12"
  }
 },
 "nbformat": 4,
 "nbformat_minor": 5
}
